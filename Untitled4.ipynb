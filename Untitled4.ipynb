{
 "cells": [
  {
   "cell_type": "code",
   "execution_count": 1,
   "metadata": {},
   "outputs": [
    {
     "name": "stdout",
     "output_type": "stream",
     "text": [
      "[[0, 0, 0, 0, 0, 0], [0, 1, 2, 3, 4, 5], [0, 2, 4, 6, 8, 10], [0, 3, 6, 9, 12, 15], [0, 4, 8, 12, 16, 20]]\n"
     ]
    }
   ],
   "source": [
    "liste = [[i*0, i*1, i*2, i*3, i*4, i*5] for i in range(5)]\n",
    "print(liste)"
   ]
  },
  {
   "cell_type": "code",
   "execution_count": 2,
   "metadata": {},
   "outputs": [
    {
     "data": {
      "text/plain": [
       "[2002, 2009, 2016, 2023, 2037, 2044, 2051, 2058, 2072, 2079, 2086, 2093]"
      ]
     },
     "execution_count": 2,
     "metadata": {},
     "output_type": "execute_result"
    }
   ],
   "source": [
    "liste = [i for i in range(2000, 2101) if i % 5 != 0 and i % 7 == 0]\n",
    "liste"
   ]
  },
  {
   "cell_type": "code",
   "execution_count": 3,
   "metadata": {},
   "outputs": [
    {
     "data": {
      "text/plain": [
       "[1, 2, 3, 4, 5, 6, 7, 8]"
      ]
     },
     "execution_count": 3,
     "metadata": {},
     "output_type": "execute_result"
    }
   ],
   "source": [
    "my_list = [[1,2,3],[4,5,6],[7,8]] # you should create [1, 2, 3, 4, 5, 6, 7, 8]\n",
    "liste = [j for i in my_list for j in i]\n",
    "liste"
   ]
  },
  {
   "cell_type": "code",
   "execution_count": 4,
   "metadata": {},
   "outputs": [
    {
     "name": "stdout",
     "output_type": "stream",
     "text": [
      "False\n"
     ]
    }
   ],
   "source": [
    "## asal sayı\n",
    "def test_prime(n):\n",
    "    try:\n",
    "        n=int(n)\n",
    "    except:\n",
    "        print(\"There is a mistake\")\n",
    "        return False\n",
    "    if (n < 2 ):\n",
    "        return False\n",
    "    for x in range(2,n):\n",
    "            if n%x==0:\n",
    "                return False\n",
    "    return True\n",
    "\n",
    "print(test_prime(-1))\n"
   ]
  },
  {
   "cell_type": "code",
   "execution_count": 5,
   "metadata": {},
   "outputs": [
    {
     "ename": "FileNotFoundError",
     "evalue": "[Errno 2] No such file or directory: 'lyrics.txt'",
     "output_type": "error",
     "traceback": [
      "\u001b[1;31m---------------------------------------------------------------------------\u001b[0m",
      "\u001b[1;31mFileNotFoundError\u001b[0m                         Traceback (most recent call last)",
      "\u001b[1;32m<ipython-input-5-26e7f88549ee>\u001b[0m in \u001b[0;36m<module>\u001b[1;34m()\u001b[0m\n\u001b[0;32m      1\u001b[0m \u001b[1;31m# Answer 4_a) SOLVE HERE\u001b[0m\u001b[1;33m\u001b[0m\u001b[1;33m\u001b[0m\u001b[0m\n\u001b[1;32m----> 2\u001b[1;33m \u001b[0mf\u001b[0m \u001b[1;33m=\u001b[0m \u001b[0mopen\u001b[0m\u001b[1;33m(\u001b[0m\u001b[1;34m\"lyrics.txt\"\u001b[0m\u001b[1;33m)\u001b[0m\u001b[1;33m\u001b[0m\u001b[0m\n\u001b[0m\u001b[0;32m      3\u001b[0m \u001b[0mdic\u001b[0m \u001b[1;33m=\u001b[0m \u001b[1;33m{\u001b[0m\u001b[1;33m}\u001b[0m\u001b[1;33m\u001b[0m\u001b[0m\n\u001b[0;32m      4\u001b[0m \u001b[1;32mfor\u001b[0m \u001b[0mline\u001b[0m \u001b[1;32min\u001b[0m \u001b[0mf\u001b[0m \u001b[1;33m:\u001b[0m\u001b[1;33m\u001b[0m\u001b[0m\n\u001b[0;32m      5\u001b[0m \u001b[1;33m\u001b[0m\u001b[0m\n",
      "\u001b[1;31mFileNotFoundError\u001b[0m: [Errno 2] No such file or directory: 'lyrics.txt'"
     ]
    }
   ],
   "source": [
    "# Answer 4_a) SOLVE HERE\n",
    "f = open(\"lyrics.txt\")\n",
    "dic = {}\n",
    "for line in f :\n",
    "   \n",
    "    for word in line.split() :\n",
    "        word = word.upper()\n",
    "        if word in dic.keys() :\n",
    "            dic[word] +=1\n",
    "        else :\n",
    "            dic[word] = 1\n",
    "            \n",
    "print(dic)\n",
    "\n",
    "\n",
    "most = 0 \n",
    "\n",
    "for x , y in dic.items() :\n",
    "    if y > most:\n",
    "        most = y \n",
    "        word = x\n",
    "\n",
    "print(word)"
   ]
  },
  {
   "cell_type": "code",
   "execution_count": 6,
   "metadata": {},
   "outputs": [
    {
     "data": {
      "text/plain": [
       "8"
      ]
     },
     "execution_count": 6,
     "metadata": {},
     "output_type": "execute_result"
    }
   ],
   "source": [
    "def find_Max(*p, **k):\n",
    "    max1 = None\n",
    "    yeni= list(p)\n",
    "    for x in k.values():\n",
    "        yeni.append(x)\n",
    "    return max(yeni)        \n",
    "\n",
    "find_Max(8,2,a=1,b=3,c=6)"
   ]
  },
  {
   "cell_type": "code",
   "execution_count": 7,
   "metadata": {},
   "outputs": [
    {
     "data": {
      "text/plain": [
       "[1, 2, 3, 4, 5, 6, 7, 8]"
      ]
     },
     "execution_count": 7,
     "metadata": {},
     "output_type": "execute_result"
    }
   ],
   "source": [
    "my_list = [[1,2,3],[4,5,6],[7,8]] # you should create [1, 2, 3, 4, 5, 6, 7, 8]\n",
    "# BU LİSTE ÖRNEKTİR, KODUNUZ my_list DEĞİŞKENİNİN ALDIĞI BÜTÜN 2 SEVİYELİ LİSTELER İÇİN ÇALIŞMALIDIR\n",
    "liste = [j for i in my_list for j in i]\n",
    "liste\n",
    "\n"
   ]
  },
  {
   "cell_type": "code",
   "execution_count": 8,
   "metadata": {},
   "outputs": [
    {
     "name": "stdout",
     "output_type": "stream",
     "text": [
      "[50, 52, 54, 56, 58, 60, 62, 64, 66, 68]\n"
     ]
    },
    {
     "data": {
      "text/plain": [
       "[51, 53, 55, 57, 59, 61, 63, 65, 67, 69]"
      ]
     },
     "execution_count": 8,
     "metadata": {},
     "output_type": "execute_result"
    }
   ],
   "source": [
    "odd = list(filter(lambda x : x % 2 ==0,range(50,70)))\n",
    "print(odd)\n",
    "\n",
    "even = list(filter(lambda x : x % 2 != 0,range(50,70)))\n",
    "even"
   ]
  },
  {
   "cell_type": "code",
   "execution_count": 9,
   "metadata": {},
   "outputs": [
    {
     "data": {
      "text/plain": [
       "['Ali', 'Ayşe', 'Nihan', 'Demet', 'Selim']"
      ]
     },
     "execution_count": 9,
     "metadata": {},
     "output_type": "execute_result"
    }
   ],
   "source": [
    "L1= [\"ali\", \"ayşe\",\"nihan\",\"demet\",\"selim\"]\n",
    "liste2 = list(x[:1].upper()+x[1:] for x in L1)\n",
    "liste2"
   ]
  },
  {
   "cell_type": "code",
   "execution_count": 10,
   "metadata": {},
   "outputs": [
    {
     "name": "stdout",
     "output_type": "stream",
     "text": [
      "{0, 1, 64, 121, 4, 36, 100, 196, 225, 9, 169, 16, 49, 81, 144, 25}\n",
      "{0, 1, 64, 121, 4, 36, 100, 196, 225, 9, 169, 16, 49, 81, 144, 25}\n",
      "{0: 0, 1: 1, 2: 4, 3: 9, 4: 16, 5: 25, 6: 36, 7: 49, 8: 64, 9: 81, 10: 100, 11: 121, 12: 144, 13: 169, 14: 196, 15: 225}\n"
     ]
    }
   ],
   "source": [
    "dic = {x : x**2 for x in range(0,16) }\n",
    "set1 = {x**2 for x in range(0,16) }\n",
    "print(set1)\n",
    "set1.add(25)\n",
    "print(set1)\n",
    "print(dic)\n"
   ]
  },
  {
   "cell_type": "code",
   "execution_count": 12,
   "metadata": {},
   "outputs": [
    {
     "name": "stdout",
     "output_type": "stream",
     "text": [
      "a 9\n"
     ]
    }
   ],
   "source": [
    "Sentence= \"Bana pazartesi günü boğaz'da bir kafede saat 15:00 gibi buluşuruz dedi.\"\n",
    "letter_list = [letter for letter in Sentence]\n",
    "letter_dict = {key.lower(): letter_list.count(key) for key in letter_list if key.isalpha() }\n",
    "letter_dict\n",
    "\n",
    "max = 0\n",
    "\n",
    "\n",
    "for key, value in letter_dict.items():\n",
    "    if max < value:\n",
    "        max = value\n",
    "        keyV = key\n",
    "        \n",
    "print(keyV, max)\n",
    "        \n"
   ]
  },
  {
   "cell_type": "code",
   "execution_count": 13,
   "metadata": {},
   "outputs": [
    {
     "data": {
      "text/plain": [
       "[0, 2, 8, 34]"
      ]
     },
     "execution_count": 13,
     "metadata": {},
     "output_type": "execute_result"
    }
   ],
   "source": [
    "fibonacci = [0,1,1,2,3,5,8,13,21,34,55]\n",
    "lista = list(filter(lambda x: x % 2 == 0, fibonacci))\n",
    "lista\n"
   ]
  },
  {
   "cell_type": "code",
   "execution_count": 14,
   "metadata": {},
   "outputs": [
    {
     "data": {
      "text/plain": [
       "[1, 1, 3, 5, 13, 21, 55]"
      ]
     },
     "execution_count": 14,
     "metadata": {},
     "output_type": "execute_result"
    }
   ],
   "source": [
    "listb = list(filter(lambda x: x % 2 != 0, fibonacci))\n",
    "listb"
   ]
  },
  {
   "cell_type": "code",
   "execution_count": 15,
   "metadata": {},
   "outputs": [
    {
     "data": {
      "text/plain": [
       "[0, 2, 24, 170]"
      ]
     },
     "execution_count": 15,
     "metadata": {},
     "output_type": "execute_result"
    }
   ],
   "source": [
    "\n",
    "listc = list(map(lambda x,y : x * y, lista,listb))\n",
    "listc\n"
   ]
  },
  {
   "cell_type": "code",
   "execution_count": 66,
   "metadata": {},
   "outputs": [],
   "source": [
    "class vehicle():\n",
    "    def __init__(self, tip, marka, model, renk, hız = 0):\n",
    "        self.tip = tip \n",
    "        self.marka = marka \n",
    "        self.model = model \n",
    "        self.renk = renk\n",
    "        self.hız = hız\n",
    "    def __str__(self):\n",
    "        return \" {} araçın -- {} model -- {} renginde ve hızı {}  \".format(self.tip, self.marka, self.model, self.renk, self.hız)\n",
    "    def hızlan(self, x):\n",
    "        self.hız = self.hız + x"
   ]
  },
  {
   "cell_type": "code",
   "execution_count": 72,
   "metadata": {},
   "outputs": [],
   "source": [
    "class Car(vehicle):\n",
    "    def __init__(self, tip, marka, model, renk, hız=0):\n",
    "        vehicle.__init__(self, \"Car\", marka, model ,renk , hız=0)"
   ]
  },
  {
   "cell_type": "code",
   "execution_count": 73,
   "metadata": {},
   "outputs": [],
   "source": [
    "a  = Car(\"a\",\"b\",\"c\",10)\n",
    "b = vehicle(\"a\",\"b\",\"c\",10)"
   ]
  },
  {
   "cell_type": "code",
   "execution_count": 74,
   "metadata": {},
   "outputs": [],
   "source": [
    "b.hızlan(20)"
   ]
  },
  {
   "cell_type": "code",
   "execution_count": 75,
   "metadata": {},
   "outputs": [
    {
     "name": "stdout",
     "output_type": "stream",
     "text": [
      " Car araçın -- b model -- c renginde ve hızı 10  \n",
      " a araçın -- b model -- c renginde ve hızı 10  \n"
     ]
    }
   ],
   "source": [
    "print(a)\n",
    "print(b)"
   ]
  },
  {
   "cell_type": "code",
   "execution_count": 76,
   "metadata": {},
   "outputs": [
    {
     "data": {
      "text/plain": [
       "20"
      ]
     },
     "execution_count": 76,
     "metadata": {},
     "output_type": "execute_result"
    }
   ],
   "source": [
    "b.hız"
   ]
  },
  {
   "cell_type": "code",
   "execution_count": null,
   "metadata": {},
   "outputs": [],
   "source": []
  },
  {
   "cell_type": "code",
   "execution_count": null,
   "metadata": {},
   "outputs": [],
   "source": []
  }
 ],
 "metadata": {
  "kernelspec": {
   "display_name": "Python 3",
   "language": "python",
   "name": "python3"
  },
  "language_info": {
   "codemirror_mode": {
    "name": "ipython",
    "version": 3
   },
   "file_extension": ".py",
   "mimetype": "text/x-python",
   "name": "python",
   "nbconvert_exporter": "python",
   "pygments_lexer": "ipython3",
   "version": "3.6.5"
  }
 },
 "nbformat": 4,
 "nbformat_minor": 2
}
