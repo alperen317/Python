{
 "cells": [
  {
   "cell_type": "markdown",
   "metadata": {},
   "source": [
    "Q.1. Given two equal-length strings, find the number of unmatched characters in the corresponding indices using the followng function. If the strings are not of equal-length, then an exception should be thrown.\n",
    "(Verilen aynı uzunluklu iki stringin karşılıklı olarak aynı indisteki karakterlerine bakarak, aynı indiste eşit olmayan karakter sayısını bulunuz. Verilen stringler aynı uzunlukta değil ise exception fırlatılmalı.)\n",
    "[10 pts]"
   ]
  },
  {
   "cell_type": "code",
   "execution_count": 6,
   "metadata": {},
   "outputs": [],
   "source": [
    "def soruBir(str1, str2):\n",
    "    print(list(zip(str1,str2)))\n",
    "    if len(str1) != len(str2):\n",
    "        return -1\n",
    "    count=0\n",
    "    for a,b in zip(str1,str2):\n",
    "        if a!= b:\n",
    "            count+=1\n",
    "    return count\n",
    "\n"
   ]
  },
  {
   "cell_type": "code",
   "execution_count": 7,
   "metadata": {},
   "outputs": [
    {
     "name": "stdout",
     "output_type": "stream",
     "text": [
      "[('m', 'm'), ('a', 'a'), ('r', 'k'), ('m', 'a'), ('a', 'r'), ('r', 'n'), ('a', 'a')]\n"
     ]
    },
    {
     "data": {
      "text/plain": [
       "4"
      ]
     },
     "execution_count": 7,
     "metadata": {},
     "output_type": "execute_result"
    }
   ],
   "source": [
    "soruBir(\"marmara\",\"makarna\")"
   ]
  },
  {
   "cell_type": "markdown",
   "metadata": {},
   "source": [
    "Q.2. Given two strings implement a function that returns true if one string is the palindrom of the other.\n",
    "(Verilen iki stringden biri diğerinin karakterlerinin ters sıralanmasıyla oluşuyorsa True yoksa False döndüren bir fonksiyon yazınız.)\n",
    "[10 pts]"
   ]
  },
  {
   "cell_type": "code",
   "execution_count": 44,
   "metadata": {},
   "outputs": [],
   "source": [
    "#Q.2 here:\n",
    "def soruİki(stringBir,stringIki):\n",
    "    stringBir1 = list(reversed(stringBir))\n",
    "    if list(stringIki) == stringBir1:\n",
    "        return True\n",
    "     "
   ]
  },
  {
   "cell_type": "code",
   "execution_count": 45,
   "metadata": {},
   "outputs": [
    {
     "name": "stdout",
     "output_type": "stream",
     "text": [
      "True\n"
     ]
    }
   ],
   "source": [
    "print(soruİki(\"halis\",\"silah\"))"
   ]
  },
  {
   "cell_type": "markdown",
   "metadata": {},
   "source": [
    "Q.3. Implement a function which accepts a list and removes all duplicated elements in that list and returns the same list.\n",
    "(Verilen bir listedeki tüm tekrarlanan elemanları silen ve bu listeyi döndüren bir fonksiyon yazınız.)\n",
    "[15 pts]"
   ]
  },
  {
   "cell_type": "code",
   "execution_count": 15,
   "metadata": {},
   "outputs": [],
   "source": [
    "#Q.3 here:\n",
    "def soruUc(my_list):\n",
    "    a = set(my_list)\n",
    "    my_list.clear()\n",
    "    for i in a:\n",
    "        print(i)\n",
    "        my_list.append(i)\n",
    "        \n",
    "    \n",
    "    return my_list\n",
    "    "
   ]
  },
  {
   "cell_type": "code",
   "execution_count": 16,
   "metadata": {},
   "outputs": [
    {
     "name": "stdout",
     "output_type": "stream",
     "text": [
      "1\n",
      "2\n",
      "3\n",
      "4\n",
      "b\n",
      "a\n",
      "[1, 2, 3, 4, 'b', 'a']\n"
     ]
    }
   ],
   "source": [
    "myList = [1,3,4,'a',1,'b','a',2]\n",
    "soruUc(myList)\n",
    "print(myList)"
   ]
  },
  {
   "cell_type": "markdown",
   "metadata": {},
   "source": [
    "Q.4. Create a Car class and a vehicle class. Note that a car is also a vehicle. Your class design should satisfy the following requirements:\n",
    "    Vehicle class should be able to keep track of number of vehicle objects [8 pts]\n",
    "    Each vehicle object should have 2 attributes that is common among all vehicles (horse power and color) [4 pts]\n",
    "    Each car object should have 2 attributes that is common among all cars (brand name and model) [4 pts]\n",
    "    When a car object is printed using print() function, it should present its basic properties in a nice way [4 pts]\n",
    "    A car should implement a function to change its color [4 pts]\n",
    "    \n",
    "   Finally, create a list of cars and call the two newly implemented methods of each car.[10 pts]\n",
    "\n",
    "[34 pts]"
   ]
  },
  {
   "cell_type": "code",
   "execution_count": 10,
   "metadata": {
    "collapsed": true
   },
   "outputs": [],
   "source": [
    "#Q.4 here:\n",
    "\n",
    "\n"
   ]
  },
  {
   "cell_type": "markdown",
   "metadata": {},
   "source": [
    "Q.5. Give one example for each of the following built-in functions: a)map, b)filter, c)reduce and d)zip functions; and for each example, implement the same functionality without using built-ins. [8*4 = 32pts]"
   ]
  },
  {
   "cell_type": "code",
   "execution_count": 10,
   "metadata": {},
   "outputs": [
    {
     "data": {
      "text/plain": [
       "[1, 4, 9, 16]"
      ]
     },
     "execution_count": 10,
     "metadata": {},
     "output_type": "execute_result"
    }
   ],
   "source": [
    "#Q.5.a here:\n",
    "mp = list(map(lambda x: x**2,range(1,5)))\n",
    "mp\n"
   ]
  },
  {
   "cell_type": "code",
   "execution_count": 18,
   "metadata": {},
   "outputs": [],
   "source": [
    "#Q.5.b here:\n",
    "flt = list(filter(lambda x : x % 2 == 0 , range(5,25)))\n",
    "flt\n"
   ]
  },
  {
   "cell_type": "code",
   "execution_count": 26,
   "metadata": {},
   "outputs": [
    {
     "data": {
      "text/plain": [
       "120"
      ]
     },
     "execution_count": 26,
     "metadata": {},
     "output_type": "execute_result"
    }
   ],
   "source": [
    "#Q.5.c here:\n",
    "from functools import reduce\n",
    "rd = (reduce((lambda x , y : x*y ),range(1,6)))\n",
    "rd"
   ]
  },
  {
   "cell_type": "code",
   "execution_count": 27,
   "metadata": {},
   "outputs": [
    {
     "data": {
      "text/plain": [
       "[3, 8, 15, 24, 35]"
      ]
     },
     "execution_count": 27,
     "metadata": {},
     "output_type": "execute_result"
    }
   ],
   "source": [
    "#Q.5.d here:\n",
    "a = [1,2,3,4,5]\n",
    "b = [3,4,5,6,7]\n",
    "\n",
    "[x * y for x,y in zip(a,b)]"
   ]
  },
  {
   "cell_type": "code",
   "execution_count": null,
   "metadata": {},
   "outputs": [],
   "source": []
  }
 ],
 "metadata": {
  "kernelspec": {
   "display_name": "Python 3",
   "language": "python",
   "name": "python3"
  },
  "language_info": {
   "codemirror_mode": {
    "name": "ipython",
    "version": 3
   },
   "file_extension": ".py",
   "mimetype": "text/x-python",
   "name": "python",
   "nbconvert_exporter": "python",
   "pygments_lexer": "ipython3",
   "version": "3.6.5"
  }
 },
 "nbformat": 4,
 "nbformat_minor": 2
}
