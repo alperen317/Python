{
 "cells": [
  {
   "cell_type": "markdown",
   "metadata": {},
   "source": [
    "# 2018-2019 Fall Semester BLM250E Midterm Exam"
   ]
  },
  {
   "cell_type": "raw",
   "metadata": {},
   "source": [
    "| Q1   | Q2   | Q3   | Q4   | Q5   | Q6   | Q7   |\n",
    "\n",
    "\n",
    "|------|------|------|------|------|------|------|"
   ]
  },
  {
   "cell_type": "markdown",
   "metadata": {},
   "source": [
    "# Question 1. (10 p)\n",
    "Implement a function called closest_power that meets the specifications below.\n",
    "For example,\n",
    "closest_power(3,12) returns 2\n",
    "closest_power(4,12) returns 2\n",
    "closest_power(4,1) returns 0\n",
    "closest_power(4,100) returns 3\n",
    "(closest_power isimli bir fonksiyon yazınız. Bu fonksiyon, girilen ikinci argümanın birinci argümanın kaçıncı kuvvetine en yakın olduğunu döndürmelidir.)"
   ]
  },
  {
   "cell_type": "code",
   "execution_count": 1,
   "metadata": {},
   "outputs": [],
   "source": [
    "def closest_power(base, num):\n",
    "    aPow = base * 0\n",
    "    i = 0\n",
    "    while aPow < num:\n",
    "        aPow = base ** i\n",
    "        i = i + 1\n",
    "    alt = aPow - num\n",
    "    ust = base ** i - num\n",
    "    if(alt < ust):\n",
    "        return i-1\n",
    "    else:\n",
    "        return i+2\n",
    "\n",
    "        \n",
    "    \n",
    "    \n",
    "    \n",
    "    "
   ]
  },
  {
   "cell_type": "code",
   "execution_count": null,
   "metadata": {},
   "outputs": [],
   "source": [
    "def closest_power(base,num):\n",
    "    pow=0\n",
    "    \n",
    "    while(base** pow <= num):\n",
    "        pow+=1\n",
    "    else:\n",
    "        diff1=abs(num-(base**(pow-1)))\n",
    "        diff2=abs(num-(base**pow))\n",
    "        return pow-1 if diff1<diff2 else pow"
   ]
  },
  {
   "cell_type": "code",
   "execution_count": 2,
   "metadata": {},
   "outputs": [
    {
     "name": "stdout",
     "output_type": "stream",
     "text": [
      "3\n",
      "2\n",
      "0\n",
      "4\n"
     ]
    }
   ],
   "source": [
    "print(closest_power(3,12))\n",
    "print(closest_power(4,12))\n",
    "print(closest_power(4,1))\n",
    "print(closest_power(4,100))"
   ]
  },
  {
   "cell_type": "code",
   "execution_count": null,
   "metadata": {},
   "outputs": [],
   "source": []
  },
  {
   "cell_type": "markdown",
   "metadata": {},
   "source": [
    "# Question 2. (15 p.)\n",
    "Write a function, called “countSubStrRec” that take two arguments, a key string and a target string, and counts the number of instances of the key in the target string recursively or iteratively. \n",
    "(Bir anahtar bir de hedef string olmak üzere 2 parametre alan “countSubStrRec” isimli fonksiyon, hedef içinde kaç kere anahtar ifadenin olduğunu bulup döndürmelidir.)\n",
    "countSubStrRec('ar','marmara') -> 2 expected output"
   ]
  },
  {
   "cell_type": "code",
   "execution_count": 21,
   "metadata": {},
   "outputs": [],
   "source": [
    "def countSubStrRec(key, target_string):\n",
    "    # Your code here\n",
    "    count = 0\n",
    "    if key in target_string:\n",
    "        count = count + 1\n",
    "        \n",
    "    return count\n",
    "        \n",
    "        \n",
    "    \n",
    "    \n",
    "    \n"
   ]
  },
  {
   "cell_type": "code",
   "execution_count": 22,
   "metadata": {},
   "outputs": [
    {
     "name": "stdout",
     "output_type": "stream",
     "text": [
      "1\n"
     ]
    }
   ],
   "source": [
    "print(countSubStrRec('ar','marmara'))\n"
   ]
  },
  {
   "cell_type": "code",
   "execution_count": 42,
   "metadata": {},
   "outputs": [
    {
     "name": "stdout",
     "output_type": "stream",
     "text": [
      "None\n"
     ]
    }
   ],
   "source": [
    "print(countSubStrRec('top','toplantı odasında toplantı yapmak için toplandık'))"
   ]
  },
  {
   "cell_type": "markdown",
   "metadata": {},
   "source": [
    "# Question 3. (10 p.)\n",
    "Implement a function that takes two strings of equal length and returns the distance between them. The distance between two strings is the number of positions at which the corresponding symbols are different.\n",
    "Check if the given strings are of equal length, if not, return -1.\n",
    "(Girilen iki string arasında mesafeyi, aynı pozisyondaki farklı karakter sayısı olarak hesaplayıp döndüren fonksiyonu yazınız. Stringler eşit uzunlukta değilse -1 değeri döndürülmelidir.)\n",
    "\n",
    "Example function call:\n",
    "compute_hamming_distance('marmara', 'makarna') should return 4"
   ]
  },
  {
   "cell_type": "code",
   "execution_count": 43,
   "metadata": {},
   "outputs": [],
   "source": [
    "def compute_hamming_distance(str1, str2):\n",
    "    if len(str1) != len(str2):\n",
    "        return -1\n",
    "    count = 0\n",
    "    key = -1\n",
    "    for i in str1:\n",
    "        key = key + 1\n",
    "        if(i != str2[key]):\n",
    "            count = count + 1\n",
    "    return count\n",
    "            \n",
    "            \n",
    "     \n",
    "\n",
    "     \n",
    "                \n",
    "               \n",
    "        \n",
    "   \n",
    "        \n",
    "        "
   ]
  },
  {
   "cell_type": "code",
   "execution_count": null,
   "metadata": {},
   "outputs": [],
   "source": [
    "\n",
    "        "
   ]
  },
  {
   "cell_type": "code",
   "execution_count": 44,
   "metadata": {},
   "outputs": [
    {
     "name": "stdout",
     "output_type": "stream",
     "text": [
      "4\n",
      "3\n"
     ]
    }
   ],
   "source": [
    "print(compute_hamming_distance('marmara','makarna'))\n",
    "print(compute_hamming_distance('adalet','saadet'))"
   ]
  },
  {
   "cell_type": "markdown",
   "metadata": {},
   "source": [
    "# Question 4. (10 p.)\n",
    "Write a python code that removes all the elements that occurs more than once in a given list. Note that the original list should be changed.\n",
    "\n",
    "(Aşağıdaki gibi verilen bir listede tekrarlanan elemanların sadece 1 tanesinin kalacağı şekilde değişiklik yapan kod parçasını yazınız)\n",
    "\n",
    "print(my_original_list) should return [3,4,'b',2]"
   ]
  },
  {
   "cell_type": "code",
   "execution_count": 8,
   "metadata": {},
   "outputs": [],
   "source": [
    "my_original_list= [1,3,4,'a',1,'b','a','2']"
   ]
  },
  {
   "cell_type": "code",
   "execution_count": 22,
   "metadata": {},
   "outputs": [],
   "source": [
    "a = set()\n",
    "a.update(my_original_list)\n",
    "\n",
    "b = []\n",
    "for i in a:\n",
    "    b.append(i)\n"
   ]
  },
  {
   "cell_type": "code",
   "execution_count": null,
   "metadata": {},
   "outputs": [],
   "source": []
  },
  {
   "cell_type": "code",
   "execution_count": 23,
   "metadata": {},
   "outputs": [
    {
     "name": "stdout",
     "output_type": "stream",
     "text": [
      "[1, 3, 4, 'a', 1, 'b', 'a', '2']\n",
      "[1, 3, 4, 'b', 'a', '2']\n"
     ]
    }
   ],
   "source": [
    "print(my_original_list)\n",
    "print(b)"
   ]
  },
  {
   "cell_type": "markdown",
   "metadata": {},
   "source": [
    "# Question 5 (20 p.)\n",
    "Write a Python function to find three numbers from an array such that the sum of three numbers equal to zero and returns each of those three elements as a list item.\n",
    "(rakamlardan oluşan bir listeyi alıp bu liste içinden toplamı sıfır olan her üçlü elemanı yeni bir listeye koyup, bu listelerden oluşan tek bir liste döbdüren fonksiyonu yazınız.)\n",
    "Input : [-1,0,1,2,-1,-4]\n",
    "Output : [[-1, -1, 2], [-1, 0, 1]] # no duplicates!!!"
   ]
  },
  {
   "cell_type": "code",
   "execution_count": 24,
   "metadata": {},
   "outputs": [],
   "source": [
    "def findTripletEqualZero(myList):\n",
    "    myNewList= []\n",
    "    list2= []\n",
    "    for i in range(len(myList)):\n",
    "        for j in range(i+1,len(myList)):\n",
    "            for k in range(j+1,len(myList)):\n",
    "                if myList[i]+myList[j]+myList[k]== 0:\n",
    "                    list2= [myList[i], myList[j], myList[k]]\n",
    "                    found= False\n",
    "                    for [a,b,c] in myNewList:\n",
    "                        if a in list2 and b in list2 and c in list2:\n",
    "                            found= True\n",
    "                            break\n",
    "                    if not found:\n",
    "                        myNewList.append(list2)\n",
    "    return myNewList\n",
    "    \n",
    "    \n",
    "    \n",
    "    \n",
    "    \n",
    "    "
   ]
  },
  {
   "cell_type": "code",
   "execution_count": 25,
   "metadata": {},
   "outputs": [
    {
     "data": {
      "text/plain": [
       "[[-1, 0, 1], [-1, 2, -1]]"
      ]
     },
     "execution_count": 25,
     "metadata": {},
     "output_type": "execute_result"
    }
   ],
   "source": [
    "findTripletEqualZero([-1,0,1,2,-1,-4])"
   ]
  },
  {
   "cell_type": "markdown",
   "metadata": {},
   "source": [
    "# Question 6 (15 + 5 = 20 p.)\n",
    "a) Open the file lyrics.txt and read it line by line. For each line, split the line into a list of words using the split() method. Then create a dictionary with keys equal to the words in the txt file and the values equal to the frequency of each word ignoring the case. Print each word and its frequency using this dictionary. (lyrics.txt dosyasını açıp satır satır okuyumuz. Her bir satırdaki kelimeleri split fonksiyonu ile ayırabilirsiniz. Bu text dosyasındaki her bir kelimenin anahtar, bu kelimenin kaç kere geçtiğinin ise değer olduğu bir \"dictionary\" yapısı oluşturunuz, ekrana yazdırınız. Büyük küçük harf duyarlı olmayacaktır. İsterseniz tüm harfleri önce büyük harfe çevirebilirsiniz. )"
   ]
  },
  {
   "cell_type": "code",
   "execution_count": 17,
   "metadata": {},
   "outputs": [
    {
     "ename": "FileNotFoundError",
     "evalue": "[Errno 2] No such file or directory: 'lyrics.txt'",
     "output_type": "error",
     "traceback": [
      "\u001b[1;31m---------------------------------------------------------------------------\u001b[0m",
      "\u001b[1;31mFileNotFoundError\u001b[0m                         Traceback (most recent call last)",
      "\u001b[1;32m<ipython-input-17-875dcb91083c>\u001b[0m in \u001b[0;36m<module>\u001b[1;34m()\u001b[0m\n\u001b[0;32m      1\u001b[0m \u001b[1;31m# Answer 6_a) SOLVE HERE\u001b[0m\u001b[1;33m\u001b[0m\u001b[1;33m\u001b[0m\u001b[0m\n\u001b[1;32m----> 2\u001b[1;33m \u001b[0mf\u001b[0m \u001b[1;33m=\u001b[0m \u001b[0mopen\u001b[0m\u001b[1;33m(\u001b[0m\u001b[1;34m\"lyrics.txt\"\u001b[0m\u001b[1;33m)\u001b[0m\u001b[1;33m\u001b[0m\u001b[0m\n\u001b[0m\u001b[0;32m      3\u001b[0m \u001b[0mdic\u001b[0m \u001b[1;33m=\u001b[0m \u001b[1;33m{\u001b[0m\u001b[1;33m}\u001b[0m\u001b[1;33m\u001b[0m\u001b[0m\n\u001b[0;32m      4\u001b[0m \u001b[1;32mfor\u001b[0m \u001b[0mline\u001b[0m \u001b[1;32min\u001b[0m \u001b[0mf\u001b[0m \u001b[1;33m:\u001b[0m\u001b[1;33m\u001b[0m\u001b[0m\n\u001b[0;32m      5\u001b[0m \u001b[1;33m\u001b[0m\u001b[0m\n",
      "\u001b[1;31mFileNotFoundError\u001b[0m: [Errno 2] No such file or directory: 'lyrics.txt'"
     ]
    }
   ],
   "source": [
    "# Answer 6_a) SOLVE HERE\n",
    "f = open(\"lyrics.txt\")\n",
    "dic = {}\n",
    "for line in f :\n",
    "   \n",
    "    for word in line.split() :\n",
    "        word = word.upper()\n",
    "        if word in dic.keys() :\n",
    "            dic[word] +=1\n",
    "        else :\n",
    "            dic[word] = 1\n",
    "            \n",
    "print(dic)"
   ]
  },
  {
   "cell_type": "markdown",
   "metadata": {
    "collapsed": true
   },
   "source": [
    "b) What is the most frequently used word? (En çok kullanılan kelime hangisidir?)"
   ]
  },
  {
   "cell_type": "code",
   "execution_count": null,
   "metadata": {},
   "outputs": [],
   "source": []
  },
  {
   "cell_type": "code",
   "execution_count": 18,
   "metadata": {},
   "outputs": [
    {
     "ename": "NameError",
     "evalue": "name 'dic' is not defined",
     "output_type": "error",
     "traceback": [
      "\u001b[1;31m---------------------------------------------------------------------------\u001b[0m",
      "\u001b[1;31mNameError\u001b[0m                                 Traceback (most recent call last)",
      "\u001b[1;32m<ipython-input-18-073f7b2b77b8>\u001b[0m in \u001b[0;36m<module>\u001b[1;34m()\u001b[0m\n\u001b[0;32m      2\u001b[0m \u001b[0mmost\u001b[0m \u001b[1;33m=\u001b[0m \u001b[1;36m0\u001b[0m\u001b[1;33m\u001b[0m\u001b[0m\n\u001b[0;32m      3\u001b[0m \u001b[1;33m\u001b[0m\u001b[0m\n\u001b[1;32m----> 4\u001b[1;33m \u001b[1;32mfor\u001b[0m \u001b[0mx\u001b[0m \u001b[1;33m,\u001b[0m \u001b[0my\u001b[0m \u001b[1;32min\u001b[0m \u001b[0mdic\u001b[0m\u001b[1;33m.\u001b[0m\u001b[0mitems\u001b[0m\u001b[1;33m(\u001b[0m\u001b[1;33m)\u001b[0m \u001b[1;33m:\u001b[0m\u001b[1;33m\u001b[0m\u001b[0m\n\u001b[0m\u001b[0;32m      5\u001b[0m     \u001b[1;32mif\u001b[0m \u001b[0my\u001b[0m \u001b[1;33m>\u001b[0m \u001b[0mmost\u001b[0m\u001b[1;33m:\u001b[0m\u001b[1;33m\u001b[0m\u001b[0m\n\u001b[0;32m      6\u001b[0m         \u001b[0mmost\u001b[0m \u001b[1;33m=\u001b[0m \u001b[0my\u001b[0m\u001b[1;33m\u001b[0m\u001b[0m\n",
      "\u001b[1;31mNameError\u001b[0m: name 'dic' is not defined"
     ]
    }
   ],
   "source": [
    "# Answer 6_b) SOLVE HERE\n",
    "most = 0 \n",
    "\n",
    "for x , y in dic.items() :\n",
    "    if y > most:\n",
    "        most = y \n",
    "        word = x\n",
    "\n",
    "print (x,y)\n"
   ]
  },
  {
   "cell_type": "markdown",
   "metadata": {},
   "source": [
    "# Question 7 (15 p.)\n",
    "\n",
    "Implement a function that returns the sum of elements in a given nested list like the one shown below. [1, [2, [3, 4], 5], 6, [7, 8]] (Aşağıdaki gibi \"rastgele\" derinlikte verilen, sadece sayılardan oluşan bir listenin elemanlarının toplamını bulan fonksiyon yazınız)\n",
    "Hint: You may use \"isinstance\" built-in function"
   ]
  },
  {
   "cell_type": "code",
   "execution_count": 15,
   "metadata": {},
   "outputs": [],
   "source": [
    "def sum_arbitraryShapeList(my_list):\n",
    "    #  SOLVE HERE:\n",
    "    toplam = 0\n",
    "    for i in my_list:\n",
    "        if type(i) == int:\n",
    "            toplam = toplam + i\n",
    "        else:\n",
    "            for j in i:\n",
    "                if type(j) == int:\n",
    "                    toplam = toplam + j\n",
    "                else:\n",
    "                    for k in j:\n",
    "                            toplam = toplam + k\n",
    "    return toplam\n",
    "\n",
    "\n",
    "                \n",
    "                \n",
    "                "
   ]
  },
  {
   "cell_type": "code",
   "execution_count": 16,
   "metadata": {},
   "outputs": [
    {
     "data": {
      "text/plain": [
       "36"
      ]
     },
     "execution_count": 16,
     "metadata": {},
     "output_type": "execute_result"
    }
   ],
   "source": [
    "l= [1, [2, [3, 4], 5], 6, [7, 8]]\n",
    "sum_arbitraryShapeList(l)"
   ]
  },
  {
   "cell_type": "code",
   "execution_count": 18,
   "metadata": {},
   "outputs": [
    {
     "name": "stdout",
     "output_type": "stream",
     "text": [
      "Help on built-in function isinstance in module builtins:\n",
      "\n",
      "isinstance(obj, class_or_tuple, /)\n",
      "    Return whether an object is an instance of a class or of a subclass thereof.\n",
      "    \n",
      "    A tuple, as in ``isinstance(x, (A, B, ...))``, may be given as the target to\n",
      "    check against. This is equivalent to ``isinstance(x, A) or isinstance(x, B)\n",
      "    or ...`` etc.\n",
      "\n"
     ]
    }
   ],
   "source": [
    "help(isinstance)"
   ]
  },
  {
   "cell_type": "code",
   "execution_count": null,
   "metadata": {},
   "outputs": [],
   "source": []
  },
  {
   "cell_type": "code",
   "execution_count": null,
   "metadata": {},
   "outputs": [],
   "source": []
  }
 ],
 "metadata": {
  "kernelspec": {
   "display_name": "Python 3",
   "language": "python",
   "name": "python3"
  },
  "language_info": {
   "codemirror_mode": {
    "name": "ipython",
    "version": 3
   },
   "file_extension": ".py",
   "mimetype": "text/x-python",
   "name": "python",
   "nbconvert_exporter": "python",
   "pygments_lexer": "ipython3",
   "version": "3.6.5"
  }
 },
 "nbformat": 4,
 "nbformat_minor": 2
}
