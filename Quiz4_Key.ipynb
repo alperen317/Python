{
 "cells": [
  {
   "cell_type": "markdown",
   "metadata": {},
   "source": [
    "# QUIZ 4 LIST COMPREHENSIONS\n",
    "## Fill in inside the brackets only!\n",
    "## Save this file as: name_surname.ipynb. Send only this file, nothing else!\n",
    "## Your output should be as given!"
   ]
  },
  {
   "cell_type": "markdown",
   "metadata": {},
   "source": [
    "## Question 1: create a list comprised of even numbers between 0 and 20."
   ]
  },
  {
   "cell_type": "code",
   "execution_count": 2,
   "metadata": {},
   "outputs": [
    {
     "name": "stdout",
     "output_type": "stream",
     "text": [
      "[0, 2, 4, 6, 8, 10, 12, 14, 16, 18]\n"
     ]
    }
   ],
   "source": [
    "L= [x for x in range(20) if x %2==0]\n",
    "print(L)"
   ]
  },
  {
   "cell_type": "markdown",
   "metadata": {},
   "source": [
    "## Question 2:create a list comprised of strings \"Even\" and \"Odd\" for the numbers between 0 and 20."
   ]
  },
  {
   "cell_type": "code",
   "execution_count": 4,
   "metadata": {},
   "outputs": [
    {
     "name": "stdout",
     "output_type": "stream",
     "text": [
      "['Even', 'Odd', 'Even', 'Odd', 'Even', 'Odd', 'Even', 'Odd', 'Even', 'Odd', 'Even', 'Odd', 'Even', 'Odd', 'Even', 'Odd', 'Even', 'Odd', 'Even', 'Odd']\n"
     ]
    }
   ],
   "source": [
    "L= [[\"Even\",\"Odd\"][a%2] for a in range(20) ]\n",
    "print(L)"
   ]
  },
  {
   "cell_type": "code",
   "execution_count": 5,
   "metadata": {},
   "outputs": [
    {
     "name": "stdout",
     "output_type": "stream",
     "text": [
      "['Even', 'Odd', 'Even', 'Odd', 'Even', 'Odd', 'Even', 'Odd', 'Even', 'Odd', 'Even', 'Odd', 'Even', 'Odd', 'Even', 'Odd', 'Even', 'Odd', 'Even', 'Odd']\n"
     ]
    }
   ],
   "source": [
    "L= [\"Even\" if i%2 ==0 else \"Odd\" for i in range(20) ]\n",
    "print(L)"
   ]
  },
  {
   "cell_type": "markdown",
   "metadata": {},
   "source": [
    "## Question 3: Given the following list L1, create a new list whose elements are twice the original list:"
   ]
  },
  {
   "cell_type": "code",
   "execution_count": 6,
   "metadata": {},
   "outputs": [
    {
     "name": "stdout",
     "output_type": "stream",
     "text": [
      "[20, 24, 28, 30, 100, 20, 8, 88, 104]\n"
     ]
    }
   ],
   "source": [
    "L1= [10,12,14,15,50, 10, 4, 44, 52]\n",
    "L2= [a*2 for a in L1]\n",
    "print(L2)"
   ]
  },
  {
   "cell_type": "markdown",
   "metadata": {},
   "source": [
    "## Question 4: Given the following list L1, create a new list which is comprised of the first character in upper case of each word. "
   ]
  },
  {
   "cell_type": "code",
   "execution_count": 8,
   "metadata": {},
   "outputs": [
    {
     "name": "stdout",
     "output_type": "stream",
     "text": [
      "['A', 'A', 'N', 'D', 'S']\n"
     ]
    }
   ],
   "source": [
    "L1= [\"ali\", \"ayşe\",\"nihan\",\"demet\",\"selim\"]\n",
    "L2= [i[0].upper() for i in L1]\n",
    "print(L2)"
   ]
  },
  {
   "cell_type": "code",
   "execution_count": 10,
   "metadata": {},
   "outputs": [
    {
     "name": "stdout",
     "output_type": "stream",
     "text": [
      "['A', 'A', 'N', 'D', 'S']\n"
     ]
    }
   ],
   "source": [
    "L1= [\"ali\", \"ayşe\",\"nihan\",\"demet\",\"selim\"]\n",
    "L2= [x.capitalize()[0] for x in L1 ]\n",
    "print(L2)"
   ]
  },
  {
   "cell_type": "markdown",
   "metadata": {},
   "source": [
    "## Question 5: Using the given two strings, str1 and str2, create a list comprised of all 2-letter combinations of those strings."
   ]
  },
  {
   "cell_type": "code",
   "execution_count": 11,
   "metadata": {},
   "outputs": [
    {
     "name": "stdout",
     "output_type": "stream",
     "text": [
      "['ax', 'ay', 'az', 'bx', 'by', 'bz', 'cx', 'cy', 'cz']\n"
     ]
    }
   ],
   "source": [
    "# Using the given two strings, create a list comprised of all 2-letter combinations of those strings.\n",
    "str1= \"abc\"\n",
    "str2= \"xyz\"\n",
    "L2= [q+w for q in str1 for w in str2]\n",
    "print(L2)"
   ]
  },
  {
   "cell_type": "code",
   "execution_count": null,
   "metadata": {},
   "outputs": [],
   "source": []
  }
 ],
 "metadata": {
  "kernelspec": {
   "display_name": "Python 3",
   "language": "python",
   "name": "python3"
  },
  "language_info": {
   "codemirror_mode": {
    "name": "ipython",
    "version": 3
   },
   "file_extension": ".py",
   "mimetype": "text/x-python",
   "name": "python",
   "nbconvert_exporter": "python",
   "pygments_lexer": "ipython3",
   "version": "3.5.1"
  }
 },
 "nbformat": 4,
 "nbformat_minor": 2
}
