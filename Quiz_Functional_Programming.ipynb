{
 "cells": [
  {
   "cell_type": "markdown",
   "metadata": {},
   "source": [
    "### Question 1: In the following list, temp_Celcius, a number of temperatures in Celcius degrees are given. Create a new list, temp_Fahrenheit by converting each Celcius degree to Fahrenheit degree using the formula below. \n",
    "F= (9/5) * C + 32"
   ]
  },
  {
   "cell_type": "code",
   "execution_count": 10,
   "metadata": {
    "collapsed": true
   },
   "outputs": [],
   "source": [
    "temp_Celcius= [39.2, 36.5, 37.3, 38, 37.8] "
   ]
  },
  {
   "cell_type": "code",
   "execution_count": 17,
   "metadata": {
    "collapsed": false
   },
   "outputs": [
    {
     "name": "stdout",
     "output_type": "stream",
     "text": [
      "[102.56, 97.7, 99.14, 100.4, 100.03999999999999]\n"
     ]
    }
   ],
   "source": [
    "#  [20p] a) use only a list comprehension:\n",
    "\n",
    "temp_Fahrenheit= ....................................................\n",
    "print(temp_Fahrenheit)"
   ]
  },
  {
   "cell_type": "code",
   "execution_count": 18,
   "metadata": {
    "collapsed": false
   },
   "outputs": [
    {
     "name": "stdout",
     "output_type": "stream",
     "text": [
      "[102.56, 97.7, 99.14, 100.4, 100.03999999999999]\n"
     ]
    }
   ],
   "source": [
    "#  [20p]  b) use a lambda function:\n",
    "\n",
    "temp_Fahrenheit= ....................................................\n",
    "print(temp_Fahrenheit)"
   ]
  },
  {
   "cell_type": "markdown",
   "metadata": {},
   "source": [
    "### Question 2: In the following list, first 10 fibonacci numbers are given. "
   ]
  },
  {
   "cell_type": "code",
   "execution_count": 26,
   "metadata": {
    "collapsed": true
   },
   "outputs": [],
   "source": [
    "fibonacci = [0,1,1,2,3,5,8,13,21,34,55]"
   ]
  },
  {
   "cell_type": "code",
   "execution_count": 27,
   "metadata": {
    "collapsed": false
   },
   "outputs": [
    {
     "name": "stdout",
     "output_type": "stream",
     "text": [
      "[1, 1, 3, 5, 13, 21, 55]\n"
     ]
    }
   ],
   "source": [
    "#  [10p] a) Create a new list named odd_numbers that contains only odd numbers.Use lambda function. \n",
    "\n",
    "odd_numbers = ....................................................\n",
    "print(odd_numbers)"
   ]
  },
  {
   "cell_type": "code",
   "execution_count": 28,
   "metadata": {
    "collapsed": false
   },
   "outputs": [
    {
     "name": "stdout",
     "output_type": "stream",
     "text": [
      "[0, 2, 8, 34]\n"
     ]
    }
   ],
   "source": [
    "#  [10p] b) Create a new list named even_numbers that contains only even numbers.Use lambda function. \n",
    "\n",
    "even_numbers = ....................................................\n",
    "print(even_numbers)"
   ]
  },
  {
   "cell_type": "code",
   "execution_count": 29,
   "metadata": {
    "collapsed": false
   },
   "outputs": [
    {
     "name": "stdout",
     "output_type": "stream",
     "text": [
      "[0, 2, 24, 170]\n"
     ]
    }
   ],
   "source": [
    "#  [20p] c) Create a new list named \"product_odd_even\" by taking the two lists,odd_numbers and even_numbers, \n",
    "# and taking the product of the corresponding elements in those lists. Again, use a lambda function.\n",
    "\n",
    "product_odd_even= ....................................................\n",
    "print(product_odd_even)"
   ]
  },
  {
   "cell_type": "code",
   "execution_count": 33,
   "metadata": {
    "collapsed": false
   },
   "outputs": [
    {
     "name": "stdout",
     "output_type": "stream",
     "text": [
      "55\n"
     ]
    }
   ],
   "source": [
    "# [20p] d) Find the maximum of all elements in the list fibonacci by using a lamnbda function and reduce. \n",
    "from functools import reduce\n",
    "maximum= ....................................................\n",
    "print(maximum) "
   ]
  }
 ],
 "metadata": {
  "kernelspec": {
   "display_name": "Python 3",
   "language": "python",
   "name": "python3"
  },
  "language_info": {
   "codemirror_mode": {
    "name": "ipython",
    "version": 3
   },
   "file_extension": ".py",
   "mimetype": "text/x-python",
   "name": "python",
   "nbconvert_exporter": "python",
   "pygments_lexer": "ipython3",
   "version": "3.6.0"
  }
 },
 "nbformat": 4,
 "nbformat_minor": 2
}
