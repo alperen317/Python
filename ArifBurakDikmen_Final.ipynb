{
 "cells": [
  {
   "cell_type": "code",
   "execution_count": 114,
   "metadata": {
    "collapsed": false
   },
   "outputs": [
    {
     "name": "stdout",
     "output_type": "stream",
     "text": [
      "m -- m\n",
      "a -- a\n",
      "r   k\n",
      "m   a\n",
      "a   r\n",
      "r   n\n",
      "a -- a\n",
      "4\n",
      "True\n"
     ]
    }
   ],
   "source": [
    "# Soru 1\n",
    "\n",
    "def checkDistance(a, b):\n",
    "   if len(a) != len(b):\n",
    "       raise SystemExit('Girilen kelimeler esit uzunlukta degildir.')\n",
    "   else:\n",
    "    u = zip (a,b)\n",
    "    counter=0\n",
    "    for i,j in u:\n",
    "        if i==j:\n",
    "            print (i, '--', j)\n",
    "            \n",
    "        else:\n",
    "            print (i, ' ', j)\n",
    "            counter = counter + 1\n",
    "    \n",
    "            \n",
    "            \n",
    "    print(counter)\n",
    "            \n",
    "            \n",
    "checkDistance('marmara', 'makarna')\n",
    "##\n",
    "\n",
    "#b \n",
    "\n",
    "def is_anagram(test, original):\n",
    "    if len(test) != len(original):\n",
    "        return False\n",
    "    for letter in test.lower():\n",
    "        if letter not in original.lower():\n",
    "            return False\n",
    "    for letter in original.lower():\n",
    "        if letter not in test.lower():\n",
    "            return False\n",
    "    return True\n",
    "\n",
    "print(is_anagram('edip', 'pide'))"
   ]
  },
  {
   "cell_type": "code",
   "execution_count": 2,
   "metadata": {
    "collapsed": false
   },
   "outputs": [
    {
     "name": "stdout",
     "output_type": "stream",
     "text": [
      "False\n",
      "True\n"
     ]
    }
   ],
   "source": [
    "#Soru2\n",
    "\n",
    "def checkPalindrome(string):\n",
    "    result = True\n",
    "    str_len = len(string)\n",
    "    for i in range(0, int(str_len/2)): # you need to check only half of the string\n",
    "        if string[i] != string[str_len-i-1]:\n",
    "            result = False\n",
    "            break\n",
    "    return result # single return statement is considered a good practice\n",
    "\n",
    "\n",
    "\n",
    "print(checkPalindrome('crt'))\n",
    "\n",
    "\n",
    "def checkPalindromeRecursive(string):\n",
    "    if len(string) < 2: return True\n",
    "    if string[0] != string[-1]: return False\n",
    "    return checkPalindromeRecursive(string[1:-1])\n",
    "\n",
    "print(checkPalindromeRecursive('kelek'))"
   ]
  },
  {
   "cell_type": "code",
   "execution_count": 116,
   "metadata": {
    "collapsed": false
   },
   "outputs": [
    {
     "ename": "SyntaxError",
     "evalue": "positional argument follows keyword argument (<ipython-input-116-f037cd83304b>, line 27)",
     "output_type": "error",
     "traceback": [
      "\u001b[0;36m  File \u001b[0;32m\"<ipython-input-116-f037cd83304b>\"\u001b[0;36m, line \u001b[0;32m27\u001b[0m\n\u001b[0;31m    print(findPow(power=3, 1, 2, 3))\u001b[0m\n\u001b[0m                          ^\u001b[0m\n\u001b[0;31mSyntaxError\u001b[0m\u001b[0;31m:\u001b[0m positional argument follows keyword argument\n"
     ]
    }
   ],
   "source": [
    "#Soru3 \n",
    "\n",
    "#a\n",
    "\n",
    "my_original_list = [1,3,4,'a',1,'b','a',2]\n",
    "temp=[]\n",
    "for x in my_original_list:\n",
    "    lenght = my_original_list.count(x)\n",
    "    \n",
    "    if lenght==1:\n",
    "        temp.append(x)\n",
    "        \n",
    "my_original_list.clear()\n",
    "my_original_list=temp.copy()\n",
    "\n",
    "print(my_original_list)\n",
    "\n",
    "\n",
    "# b\n",
    "def findPow(power, *numbers):\n",
    "    sum = 1\n",
    "    for i in numbers:\n",
    "        sum = sum + i**power\n",
    "    return sum\n",
    "\n",
    "\n",
    "print(findPow(power=3, 1, 2, 3))"
   ]
  },
  {
   "cell_type": "code",
   "execution_count": 25,
   "metadata": {
    "collapsed": false
   },
   "outputs": [
    {
     "name": "stdout",
     "output_type": "stream",
     "text": [
      "[1, 4, 9, 16, 25]\n",
      "[1, 4, 9, 16, 25]\n",
      "[-5, -4, -3, -2, -1]\n",
      "[-5, -4, -3, -2, -1]\n",
      "24\n",
      "24\n",
      "a1 b1\n",
      "a2 b2\n",
      "a3 b3\n"
     ]
    }
   ],
   "source": [
    "# Soru 4\n",
    "\n",
    "\n",
    "#Map\n",
    "\n",
    "items1 = [1, 2, 3, 4, 5]\n",
    "\n",
    "def sqr(x):\n",
    "    return x**2\n",
    "\n",
    "print(list(map(sqr, items)))\n",
    "\n",
    "#B\n",
    "\n",
    "items = [1, 2, 3, 4, 5]\n",
    "squared = []\n",
    "for i in items:\n",
    "    squared.append(i**2)    \n",
    "    \n",
    "    \n",
    "print(list(squared))\n",
    "\n",
    "#filter \n",
    "number_list = range(-5, 5)\n",
    "less_than_zero = list(filter(lambda x: x < 0, number_list))\n",
    "print(less_than_zero)\n",
    "\n",
    "#B\n",
    "\n",
    "[x for x in range(-5, 5) if x > 0]\n",
    "\n",
    "print(less_than_zero)\n",
    "\n",
    "\n",
    "#Reduce \n",
    "\n",
    "from functools import reduce\n",
    "product = reduce((lambda x, y: x * y), [1, 2, 3, 4])\n",
    "\n",
    "print(product)\n",
    "\n",
    "#B\n",
    "\n",
    "L = [1,2,3,4]\n",
    "res = L[0]\n",
    "for x in L[1:]:\n",
    "    res = res * x\n",
    "\n",
    "print(res)\n",
    "\n",
    "# Zip örnegi\n",
    "\n",
    "alist = ['a1', 'a2', 'a3']\n",
    "blist = ['b1', 'b2', 'b3']\n",
    "\n",
    "for a, b in zip(alist, blist):\n",
    "    print (a, b)\n"
   ]
  },
  {
   "cell_type": "code",
   "execution_count": 101,
   "metadata": {
    "collapsed": false
   },
   "outputs": [],
   "source": [
    "class Vehicle:\n",
    "    counter=0\n",
    "    def __init__(self, tip, horsePower):\n",
    "        self.tip=tip\n",
    "        self.horsePower=horsePower\n",
    "        Car.counter +=1\n",
    "    def carNumber(self):\n",
    "        return counter\n",
    "        \n",
    "class Car(Vehicle):\n",
    "    def __init__(self, brand, model, color):\n",
    "        self.brand = brand\n",
    "        self.model = model\n",
    "        self.color = color\n",
    "    def printCars(self):\n",
    "        for Vehicle in self.car:\n",
    "            print(car)\n",
    "            \n",
    "    def update(self, newColor):\n",
    "        self.color=newColor\n",
    "        "
   ]
  },
  {
   "cell_type": "code",
   "execution_count": 102,
   "metadata": {
    "collapsed": false
   },
   "outputs": [],
   "source": [
    "ucak = Vehicle(\"ucak\", 9000)\n",
    "\n",
    "araba = Car(\"mercedes\", \"c200\", \"white\")\n",
    "\n",
    "araba.update(\"red\")\n",
    "\n",
    "araba2 = Car(\"bmw\", \"320\", \"blue\")\n"
   ]
  },
  {
   "cell_type": "code",
   "execution_count": 103,
   "metadata": {
    "collapsed": false
   },
   "outputs": [
    {
     "data": {
      "text/plain": [
       "{'brand': 'mercedes', 'color': 'red', 'model': 'c200'}"
      ]
     },
     "execution_count": 103,
     "metadata": {},
     "output_type": "execute_result"
    }
   ],
   "source": [
    "araba.__dict__"
   ]
  },
  {
   "cell_type": "code",
   "execution_count": 104,
   "metadata": {
    "collapsed": false
   },
   "outputs": [
    {
     "name": "stdout",
     "output_type": "stream",
     "text": [
      "<function Vehicle.carNumber at 0x00000280120B47B8>\n"
     ]
    }
   ],
   "source": [
    "print(Vehicle.carNumber)"
   ]
  },
  {
   "cell_type": "code",
   "execution_count": null,
   "metadata": {
    "collapsed": true
   },
   "outputs": [],
   "source": []
  }
 ],
 "metadata": {
  "kernelspec": {
   "display_name": "Python 3",
   "language": "python",
   "name": "python3"
  },
  "language_info": {
   "codemirror_mode": {
    "name": "ipython",
    "version": 3
   },
   "file_extension": ".py",
   "mimetype": "text/x-python",
   "name": "python",
   "nbconvert_exporter": "python",
   "pygments_lexer": "ipython3",
   "version": "3.6.0"
  }
 },
 "nbformat": 4,
 "nbformat_minor": 2
}
